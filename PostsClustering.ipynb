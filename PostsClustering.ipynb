{
 "cells": [
  {
   "cell_type": "markdown",
   "metadata": {},
   "source": [
    "# Exploring Instagram Posts with NLP and kMeans"
   ]
  },
  {
   "cell_type": "markdown",
   "metadata": {},
   "source": [
    "##### Reference: https://www.kaggle.com/kitakoj18/exploring-wine-descriptions-with-nlp-and-kmeans"
   ]
  },
  {
   "cell_type": "markdown",
   "metadata": {},
   "source": [
    "Load the libraries for dataset preparation, feature engineering, model training:"
   ]
  },
  {
   "cell_type": "code",
   "execution_count": 68,
   "metadata": {
    "collapsed": true
   },
   "outputs": [],
   "source": [
    "import numpy as np \n",
    "import pandas as pd \n",
    "import matplotlib.pyplot as plt\n",
    "import seaborn as sns\n",
    "import nltk\n",
    "from sklearn.feature_extraction import text\n",
    "from sklearn.feature_extraction.text import TfidfVectorizer\n",
    "from sklearn.cluster import KMeans\n",
    "from nltk.tokenize import RegexpTokenizer\n",
    "from nltk.stem.snowball import SnowballStemmer\n",
    "from nltk.corpus import stopwords\n",
    "%matplotlib inline"
   ]
  },
  {
   "cell_type": "markdown",
   "metadata": {},
   "source": [
    "Unpickle and load our dataset"
   ]
  },
  {
   "cell_type": "code",
   "execution_count": 39,
   "metadata": {},
   "outputs": [
    {
     "data": {
      "text/html": [
       "<div>\n",
       "<style>\n",
       "    .dataframe thead tr:only-child th {\n",
       "        text-align: right;\n",
       "    }\n",
       "\n",
       "    .dataframe thead th {\n",
       "        text-align: left;\n",
       "    }\n",
       "\n",
       "    .dataframe tbody tr th {\n",
       "        vertical-align: top;\n",
       "    }\n",
       "</style>\n",
       "<table border=\"1\" class=\"dataframe\">\n",
       "  <thead>\n",
       "    <tr style=\"text-align: right;\">\n",
       "      <th></th>\n",
       "      <th>City</th>\n",
       "      <th>Country</th>\n",
       "      <th>Lat</th>\n",
       "      <th>Location</th>\n",
       "      <th>Location Link</th>\n",
       "      <th>Lon</th>\n",
       "      <th>Phone</th>\n",
       "      <th>Posts Descriptions</th>\n",
       "      <th>Street</th>\n",
       "      <th>Website</th>\n",
       "      <th>Date of scrape</th>\n",
       "    </tr>\n",
       "  </thead>\n",
       "  <tbody>\n",
       "    <tr>\n",
       "      <th>0</th>\n",
       "      <td>Alella</td>\n",
       "      <td>ES</td>\n",
       "      <td>41.497825</td>\n",
       "      <td>Els Garrofers</td>\n",
       "      <td>https://www.instagram.com/explore/locations/10...</td>\n",
       "      <td>2.292033</td>\n",
       "      <td>34935401794</td>\n",
       "      <td>[Me llena de orgullo y satisfacción anunciar q...</td>\n",
       "      <td>Can Doctor. Passeig Antoni Borrell, 13</td>\n",
       "      <td>http://www.elsgarrofers.com</td>\n",
       "      <td>2018-11-22 22:53</td>\n",
       "    </tr>\n",
       "    <tr>\n",
       "      <th>1</th>\n",
       "      <td>Bacalar, Quintana Roo</td>\n",
       "      <td>MX</td>\n",
       "      <td>18.760225</td>\n",
       "      <td>Bacalar</td>\n",
       "      <td>https://www.instagram.com/explore/locations/14...</td>\n",
       "      <td>-88.312569</td>\n",
       "      <td></td>\n",
       "      <td>[Wanna wake up everyday seeing that, swimming ...</td>\n",
       "      <td>Quintana Roo</td>\n",
       "      <td>http://grandcostamaya.gob.mx/</td>\n",
       "      <td>2018-11-22 22:53</td>\n",
       "    </tr>\n",
       "    <tr>\n",
       "      <th>2</th>\n",
       "      <td>Bangkok, Thailand</td>\n",
       "      <td>TH</td>\n",
       "      <td>13.764660</td>\n",
       "      <td>7-11</td>\n",
       "      <td>https://www.instagram.com/explore/locations/11...</td>\n",
       "      <td>100.473230</td>\n",
       "      <td>0998018537</td>\n",
       "      <td>[Oreo ice cream! So gooood 💕#711 #อร่อยสมคำล่ำ...</td>\n",
       "      <td>ประเทศไทย</td>\n",
       "      <td>https://www.7eleven.co.th</td>\n",
       "      <td>2018-11-22 22:53</td>\n",
       "    </tr>\n",
       "    <tr>\n",
       "      <th>4</th>\n",
       "      <td>Barcelona, Spain</td>\n",
       "      <td>ES</td>\n",
       "      <td>41.393720</td>\n",
       "      <td>BOB Oyster Bcn</td>\n",
       "      <td>https://www.instagram.com/explore/locations/20...</td>\n",
       "      <td>2.153520</td>\n",
       "      <td>936 888 981</td>\n",
       "      <td>[1er Anniversario. Ven a celebrarlo con nosotr...</td>\n",
       "      <td>C/ París, 190</td>\n",
       "      <td>www.boboysterbcn.com/</td>\n",
       "      <td>2018-11-22 22:53</td>\n",
       "    </tr>\n",
       "    <tr>\n",
       "      <th>5</th>\n",
       "      <td>Barcelona, Spain</td>\n",
       "      <td>ES</td>\n",
       "      <td>41.382425</td>\n",
       "      <td>Barcelona.cat</td>\n",
       "      <td>https://www.instagram.com/explore/locations/21...</td>\n",
       "      <td>2.177267</td>\n",
       "      <td>+34 93 402 70 00</td>\n",
       "      <td>[Tú y yo tenemos telepatía\\nCuando te miro y t...</td>\n",
       "      <td>Pl. Sant Jaume, 1</td>\n",
       "      <td>http://www.barcelona.cat</td>\n",
       "      <td>2018-11-22 22:53</td>\n",
       "    </tr>\n",
       "  </tbody>\n",
       "</table>\n",
       "</div>"
      ],
      "text/plain": [
       "                    City Country        Lat        Location  \\\n",
       "0                 Alella      ES  41.497825   Els Garrofers   \n",
       "1  Bacalar, Quintana Roo      MX  18.760225         Bacalar   \n",
       "2      Bangkok, Thailand      TH  13.764660            7-11   \n",
       "4       Barcelona, Spain      ES  41.393720  BOB Oyster Bcn   \n",
       "5       Barcelona, Spain      ES  41.382425   Barcelona.cat   \n",
       "\n",
       "                                       Location Link         Lon  \\\n",
       "0  https://www.instagram.com/explore/locations/10...    2.292033   \n",
       "1  https://www.instagram.com/explore/locations/14...  -88.312569   \n",
       "2  https://www.instagram.com/explore/locations/11...  100.473230   \n",
       "4  https://www.instagram.com/explore/locations/20...    2.153520   \n",
       "5  https://www.instagram.com/explore/locations/21...    2.177267   \n",
       "\n",
       "              Phone                                 Posts Descriptions  \\\n",
       "0       34935401794  [Me llena de orgullo y satisfacción anunciar q...   \n",
       "1                    [Wanna wake up everyday seeing that, swimming ...   \n",
       "2        0998018537  [Oreo ice cream! So gooood 💕#711 #อร่อยสมคำล่ำ...   \n",
       "4       936 888 981  [1er Anniversario. Ven a celebrarlo con nosotr...   \n",
       "5  +34 93 402 70 00  [Tú y yo tenemos telepatía\\nCuando te miro y t...   \n",
       "\n",
       "                                   Street                        Website  \\\n",
       "0  Can Doctor. Passeig Antoni Borrell, 13    http://www.elsgarrofers.com   \n",
       "1                            Quintana Roo  http://grandcostamaya.gob.mx/   \n",
       "2                               ประเทศไทย      https://www.7eleven.co.th   \n",
       "4                           C/ París, 190          www.boboysterbcn.com/   \n",
       "5                       Pl. Sant Jaume, 1       http://www.barcelona.cat   \n",
       "\n",
       "     Date of scrape  \n",
       "0  2018-11-22 22:53  \n",
       "1  2018-11-22 22:53  \n",
       "2  2018-11-22 22:53  \n",
       "4  2018-11-22 22:53  \n",
       "5  2018-11-22 22:53  "
      ]
     },
     "execution_count": 39,
     "metadata": {},
     "output_type": "execute_result"
    }
   ],
   "source": [
    "import os\n",
    "import pickle\n",
    "data = pickle.load(open(os.getcwd()+'\\\\Data\\\\insta_locations.pkl','rb'))\n",
    "data.head()"
   ]
  },
  {
   "cell_type": "markdown",
   "metadata": {
    "collapsed": true
   },
   "source": [
    "Note that the 'Posts Descriptions' column is a list, which needs to be converted into a separate row so that we can analyse the data after. We will do this using thw following approach (ref. https://mikulskibartosz.name/how-to-split-a-list-inside-a-dataframe-cell-into-rows-in-pandas-9849d8ff2401)"
   ]
  },
  {
   "cell_type": "markdown",
   "metadata": {},
   "source": [
    "* Split the 'Posts Description' column into new columns;\n",
    "* Then merge the columns with the rest of the data set;\n",
    "* Then drop the old descriptions column;\n",
    "* Then transform the numeric columns into rows using the melt function;\n",
    "* Then remove the “variable” column which contains the ids of the numeric columns;\n",
    "* Finally, get rid of the empty values.\n",
    "\n",
    "_\\* Note that the backslash (\\\\) character is used to escape characters that otherwise have a special meaning, such as newline._"
   ]
  },
  {
   "cell_type": "code",
   "execution_count": 40,
   "metadata": {
    "scrolled": true
   },
   "outputs": [],
   "source": [
    "col_list = list(data.columns.values)\n",
    "col_list.remove('Posts Descriptions')"
   ]
  },
  {
   "cell_type": "code",
   "execution_count": 42,
   "metadata": {
    "scrolled": false
   },
   "outputs": [],
   "source": [
    "data2 = data['Posts Descriptions'].apply(pd.Series) \\\n",
    "    .merge(data, left_index = True, right_index = True) \\\n",
    "    .drop([\"Posts Descriptions\"], axis = 1) \\\n",
    "    .melt(id_vars = col_list, value_name = \"Post Description\") \\\n",
    "    .drop(\"variable\", axis = 1) \\\n",
    "    .dropna()"
   ]
  },
  {
   "cell_type": "markdown",
   "metadata": {},
   "source": [
    "#### Exploratory Data Analysis\n",
    "(i.e. check where values are missing)"
   ]
  },
  {
   "cell_type": "code",
   "execution_count": 43,
   "metadata": {},
   "outputs": [
    {
     "name": "stdout",
     "output_type": "stream",
     "text": [
      "<class 'pandas.core.frame.DataFrame'>\n",
      "Int64Index: 571 entries, 0 to 622\n",
      "Data columns (total 11 columns):\n",
      "City                571 non-null object\n",
      "Country             571 non-null object\n",
      "Lat                 571 non-null float64\n",
      "Location            571 non-null object\n",
      "Location Link       571 non-null object\n",
      "Lon                 571 non-null float64\n",
      "Phone               571 non-null object\n",
      "Street              571 non-null object\n",
      "Website             571 non-null object\n",
      "Date of scrape      571 non-null object\n",
      "Post Description    571 non-null object\n",
      "dtypes: float64(2), object(9)\n",
      "memory usage: 53.5+ KB\n"
     ]
    }
   ],
   "source": [
    "data2.info()"
   ]
  },
  {
   "cell_type": "markdown",
   "metadata": {},
   "source": [
    "#### Natural Language Processing"
   ]
  },
  {
   "cell_type": "code",
   "execution_count": 71,
   "metadata": {},
   "outputs": [],
   "source": [
    "punc = ['.', ',', '\"', \"'\", '?', '!', '¿', '¡', ':', ';', '(', ')', '[', ']', '{', '}',\"%\"]\n",
    "#nltk.download()\n",
    "stop_words_en = text.ENGLISH_STOP_WORDS\n",
    "stop_words_es = stopwords.words('spanish')\n",
    "stop_words = stop_words_en.union(stop_words_es).union(punc)\n",
    "desc = data2['Post Description'].values\n",
    "vectorizer = TfidfVectorizer(stop_words = stop_words)\n",
    "X = vectorizer.fit_transform(desc)"
   ]
  },
  {
   "cell_type": "code",
   "execution_count": 74,
   "metadata": {},
   "outputs": [
    {
     "data": {
      "text/plain": [
       "['beautifuldestinations',\n",
       " 'beautifulgirl',\n",
       " 'beauty',\n",
       " 'bechamel',\n",
       " 'beef',\n",
       " 'beer',\n",
       " 'beergasm',\n",
       " 'beergeek',\n",
       " 'beerlover',\n",
       " 'beerlovers',\n",
       " 'beerme',\n",
       " 'beernerd',\n",
       " 'beeroftheday',\n",
       " 'beerpics',\n",
       " 'beerpong',\n",
       " 'beerporn',\n",
       " 'beers',\n",
       " 'beershop',\n",
       " 'beersnob',\n",
       " 'beersofinstagram',\n",
       " 'beerstagram',\n",
       " 'beertime',\n",
       " 'beertography',\n",
       " 'beerus',\n",
       " 'beetroot']"
      ]
     },
     "execution_count": 74,
     "metadata": {},
     "output_type": "execute_result"
    }
   ],
   "source": [
    "word_features = vectorizer.get_feature_names()\n",
    "word_features[550:575]"
   ]
  },
  {
   "cell_type": "markdown",
   "metadata": {},
   "source": [
    "As we can see from above, there is a very large list of words, with many cases where words share the same roots. \n",
    "\n",
    "We need to stem/lemmatize those (i.e. reduce words to their root forms). There are various stemmers and lemmatizers, but for this exerceise we will use Snowball Stemmer."
   ]
  },
  {
   "cell_type": "code",
   "execution_count": 75,
   "metadata": {
    "collapsed": true
   },
   "outputs": [],
   "source": [
    "stemmer = SnowballStemmer('spanish')\n",
    "tokenizer = RegexpTokenizer(r'[a-zA-Z\\']+')\n",
    "\n",
    "def tokenize(text):\n",
    "    return [stemmer.stem(word) for word in tokenizer.tokenize(text.lower())]"
   ]
  },
  {
   "cell_type": "code",
   "execution_count": 76,
   "metadata": {},
   "outputs": [
    {
     "data": {
      "text/plain": [
       "['aalamin',\n",
       " 'aap',\n",
       " 'abandon',\n",
       " 'abanik',\n",
       " 'abarrot',\n",
       " 'abbiam',\n",
       " 'abbinament',\n",
       " 'abiert',\n",
       " 'abiliti',\n",
       " 'abiteofbarcelon',\n",
       " 'able',\n",
       " 'aboutlastnight',\n",
       " 'abov',\n",
       " 'abren',\n",
       " 'abri',\n",
       " 'abril',\n",
       " 'abrir',\n",
       " 'abro',\n",
       " 'abuelit',\n",
       " 'acab',\n",
       " 'acaibowl',\n",
       " 'accessori',\n",
       " 'accessory',\n",
       " 'accidentally',\n",
       " 'accogli',\n",
       " 'accompagnat',\n",
       " 'accounting',\n",
       " 'accueill',\n",
       " 'aceit',\n",
       " 'aceitun',\n",
       " 'acept',\n",
       " 'achech',\n",
       " 'acidit',\n",
       " 'acogedor',\n",
       " 'acomp',\n",
       " 'acompany',\n",
       " 'acting',\n",
       " 'actual',\n",
       " 'ad',\n",
       " 'ada',\n",
       " 'adas',\n",
       " 'addict',\n",
       " 'adejuanmayan',\n",
       " 'adem',\n",
       " 'adi',\n",
       " 'adict',\n",
       " 'admin',\n",
       " 'admit',\n",
       " 'ado',\n",
       " 'adob']"
      ]
     },
     "execution_count": 76,
     "metadata": {},
     "output_type": "execute_result"
    }
   ],
   "source": [
    "vectorizer2 = TfidfVectorizer(stop_words = stop_words, tokenizer = tokenize)\n",
    "X2 = vectorizer2.fit_transform(desc)\n",
    "word_features2 = vectorizer2.get_feature_names()\n",
    "word_features2[:50]"
   ]
  },
  {
   "cell_type": "markdown",
   "metadata": {},
   "source": [
    "Below, we take it one step further by adjusting the max_features parameter in the tf-idf vectorizer, which selects only the top max_features tokens ordered by their frequencies in the corpus to be included in the vectorizing."
   ]
  },
  {
   "cell_type": "code",
   "execution_count": 77,
   "metadata": {
    "collapsed": true
   },
   "outputs": [],
   "source": [
    "vectorizer3 = TfidfVectorizer(stop_words = stop_words, tokenizer = tokenize, max_features = 1000)\n",
    "X3 = vectorizer3.fit_transform(desc)\n",
    "words = vectorizer3.get_feature_names()"
   ]
  },
  {
   "cell_type": "markdown",
   "metadata": {},
   "source": [
    "#### kMeans Clustering\n",
    "Now that the text preprocessing is done, I can finally apply the kMeans algorithm to cluster our description vectors. "
   ]
  },
  {
   "cell_type": "code",
   "execution_count": 78,
   "metadata": {},
   "outputs": [
    {
     "data": {
      "text/plain": [
       "KMeans(algorithm='auto', copy_x=True, init='k-means++', max_iter=300,\n",
       "    n_clusters=15, n_init=5, n_jobs=-1, precompute_distances='auto',\n",
       "    random_state=None, tol=0.0001, verbose=0)"
      ]
     },
     "execution_count": 78,
     "metadata": {},
     "output_type": "execute_result"
    }
   ],
   "source": [
    "kmeans = KMeans(n_clusters = 15, n_init = 5, n_jobs = -1)\n",
    "kmeans.fit(X3)"
   ]
  },
  {
   "cell_type": "code",
   "execution_count": 79,
   "metadata": {},
   "outputs": [
    {
     "name": "stdout",
     "output_type": "stream",
     "text": [
      "0 : silvestrebcn, patat, n, parmenti, tart, truf, salm, delici, langostin, hoy\n",
      "1 : barcelon, s, tac, foodi, n, food, avoc, foodporn, par, d\n",
      "2 : paell, tap, dell, che, di, galici, espa, il, vi, dinn\n",
      "3 : cecin, rap, envuelt, buey, bas, truf, sobr, pur, patat, carmendaneas\n",
      "4 : orig, casapalet, carmendaneas, casapaletglori, foodlovers, orgasmicfood, bcngourmet, pasionporlacocin, bcncom, foi\n",
      "5 : total, balear, ok, natur, igersmenorc, sunset, menorc, lov, balears, igersbalears\n",
      "6 : langostin, foi, tomat, espinac, sec, ensal, carmendaneas, orig, casapalet, casapaletglori\n",
      "7 : oysters, cav, birthday, r, foods, foodporn, foodpictur, foodpics, foodpic, foodphotography\n",
      "8 : bangkokmarathon, bdmsbangkokmarathon, healthylifestyl, bdms, bangkok, foodlov, foodlovers, foodofinstagram, foodpassion, foodphotography\n",
      "9 : portalon, instafood, elportalon, goodfood, restaurant, restaur, portal, tasty, bcn, delicious\n",
      "10 : bacal, viaj, tod, zon, foods, foodporn, foodpictur, foodpics, foodpic, foodphotography\n",
      "11 : weekend, brunch, amsterdam, tim, zon, foodpic, foodofinstagram, foodpassion, foodphotography, foodpics\n",
      "12 : lecucinemandaross, past, barcelon, zon, foodphotography, foodiesbcn, foodlov, foodlovers, foodofinstagram, foodpassion\n",
      "13 : sneakers, zon, foodiegram, foodstagram, foods, foodporn, foodpictur, foodpics, foodpic, foodphotography\n",
      "14 : tak, tim, zon, foodiegram, foodstagram, foods, foodporn, foodpictur, foodpics, foodpic\n"
     ]
    }
   ],
   "source": [
    "common_words = kmeans.cluster_centers_.argsort()[:,-1:-11:-1]\n",
    "for num, centroid in enumerate(common_words):\n",
    "    print(str(num) + ' : ' + ', '.join(words[word] for word in centroid))"
   ]
  },
  {
   "cell_type": "markdown",
   "metadata": {},
   "source": [
    "Let's create a heatmap that maps out each of the locations and their counts in each of the 15 clusters. "
   ]
  },
  {
   "cell_type": "code",
   "execution_count": 80,
   "metadata": {},
   "outputs": [],
   "source": [
    "data2['cluster'] = kmeans.labels_"
   ]
  },
  {
   "cell_type": "code",
   "execution_count": 81,
   "metadata": {},
   "outputs": [
    {
     "data": {
      "image/png": "[encoded data removed]",
      "text/plain": [
       "<matplotlib.figure.Figure at 0x2a91c53f198>"
      ]
     },
     "metadata": {},
     "output_type": "display_data"
    }
   ],
   "source": [
    "clusters = data2.groupby(['cluster', 'Location']).size()\n",
    "fig2, ax2 = plt.subplots(figsize = (30, 15))\n",
    "sns.heatmap(clusters.unstack(level = 'Location'), ax = ax2, cmap = 'Reds')\n",
    "\n",
    "ax2.set_xlabel('Location', fontdict = {'weight': 'bold', 'size': 24})\n",
    "ax2.set_ylabel('cluster', fontdict = {'weight': 'bold', 'size': 24})\n",
    "for label in ax2.get_xticklabels():\n",
    "    label.set_size(16)\n",
    "    label.set_weight(\"bold\")\n",
    "for label in ax2.get_yticklabels():\n",
    "    label.set_size(16)\n",
    "    label.set_weight(\"bold\")"
   ]
  },
  {
   "cell_type": "code",
   "execution_count": null,
   "metadata": {
    "collapsed": true
   },
   "outputs": [],
   "source": []
  }
 ],
 "metadata": {
  "kernelspec": {
   "display_name": "Python 3",
   "language": "python",
   "name": "python3"
  },
  "language_info": {
   "codemirror_mode": {
    "name": "ipython",
    "version": 3
   },
   "file_extension": ".py",
   "mimetype": "text/x-python",
   "name": "python",
   "nbconvert_exporter": "python",
   "pygments_lexer": "ipython3",
   "version": "3.6.2"
  }
 },
 "nbformat": 4,
 "nbformat_minor": 2
}
